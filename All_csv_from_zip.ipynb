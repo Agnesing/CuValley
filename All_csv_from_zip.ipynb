{
 "cells": [
  {
   "cell_type": "code",
   "execution_count": 1,
   "metadata": {
    "scrolled": true
   },
   "outputs": [],
   "source": [
    "import glob\n",
    "import zipfile\n",
    "import pandas as pd\n",
    "import gc"
   ]
  },
  {
   "cell_type": "code",
   "execution_count": 8,
   "metadata": {
    "scrolled": true
   },
   "outputs": [
    {
     "name": "stdout",
     "output_type": "stream",
     "text": [
      "Empty DataFrame\n",
      "Columns: [LP1, Data, Czas, LP2, Wartosc, Jakosc_pomiaru]\n",
      "Index: []\n",
      "C:/Users/E7240/Documents/cuvalley/MonitoringSMG/WOS 175L/2020/05\\KLDSMG_WOS___175L_20200501.zip\n",
      "C:/Users/E7240/Documents/cuvalley/MonitoringSMG/WOS 175L/2020/05\\KLDSMG_WOS___175L_20200502.zip\n",
      "C:/Users/E7240/Documents/cuvalley/MonitoringSMG/WOS 175L/2020/05\\KLDSMG_WOS___175L_20200503.zip\n",
      "C:/Users/E7240/Documents/cuvalley/MonitoringSMG/WOS 175L/2020/05\\KLDSMG_WOS___175L_20200504.zip\n",
      "C:/Users/E7240/Documents/cuvalley/MonitoringSMG/WOS 175L/2020/05\\KLDSMG_WOS___175L_20200505.zip\n",
      "C:/Users/E7240/Documents/cuvalley/MonitoringSMG/WOS 175L/2020/05\\KLDSMG_WOS___175L_20200506.zip\n",
      "C:/Users/E7240/Documents/cuvalley/MonitoringSMG/WOS 175L/2020/05\\KLDSMG_WOS___175L_20200507.zip\n",
      "C:/Users/E7240/Documents/cuvalley/MonitoringSMG/WOS 175L/2020/05\\KLDSMG_WOS___175L_20200508.zip\n",
      "C:/Users/E7240/Documents/cuvalley/MonitoringSMG/WOS 175L/2020/05\\KLDSMG_WOS___175L_20200509.zip\n",
      "C:/Users/E7240/Documents/cuvalley/MonitoringSMG/WOS 175L/2020/05\\KLDSMG_WOS___175L_20200510.zip\n",
      "C:/Users/E7240/Documents/cuvalley/MonitoringSMG/WOS 175L/2020/05\\KLDSMG_WOS___175L_20200511.zip\n",
      "C:/Users/E7240/Documents/cuvalley/MonitoringSMG/WOS 175L/2020/05\\KLDSMG_WOS___175L_20200512.zip\n",
      "C:/Users/E7240/Documents/cuvalley/MonitoringSMG/WOS 175L/2020/05\\KLDSMG_WOS___175L_20200513.zip\n",
      "C:/Users/E7240/Documents/cuvalley/MonitoringSMG/WOS 175L/2020/05\\KLDSMG_WOS___175L_20200514.zip\n",
      "C:/Users/E7240/Documents/cuvalley/MonitoringSMG/WOS 175L/2020/05\\KLDSMG_WOS___175L_20200515.zip\n",
      "C:/Users/E7240/Documents/cuvalley/MonitoringSMG/WOS 175L/2020/05\\KLDSMG_WOS___175L_20200516.zip\n",
      "C:/Users/E7240/Documents/cuvalley/MonitoringSMG/WOS 175L/2020/05\\KLDSMG_WOS___175L_20200517.zip\n",
      "C:/Users/E7240/Documents/cuvalley/MonitoringSMG/WOS 175L/2020/05\\KLDSMG_WOS___175L_20200518.zip\n",
      "C:/Users/E7240/Documents/cuvalley/MonitoringSMG/WOS 175L/2020/05\\KLDSMG_WOS___175L_20200519.zip\n",
      "C:/Users/E7240/Documents/cuvalley/MonitoringSMG/WOS 175L/2020/05\\KLDSMG_WOS___175L_20200520.zip\n",
      "C:/Users/E7240/Documents/cuvalley/MonitoringSMG/WOS 175L/2020/05\\KLDSMG_WOS___175L_20200521.zip\n",
      "C:/Users/E7240/Documents/cuvalley/MonitoringSMG/WOS 175L/2020/05\\KLDSMG_WOS___175L_20200522.zip\n",
      "C:/Users/E7240/Documents/cuvalley/MonitoringSMG/WOS 175L/2020/05\\KLDSMG_WOS___175L_20200523.zip\n",
      "C:/Users/E7240/Documents/cuvalley/MonitoringSMG/WOS 175L/2020/05\\KLDSMG_WOS___175L_20200524.zip\n",
      "C:/Users/E7240/Documents/cuvalley/MonitoringSMG/WOS 175L/2020/05\\KLDSMG_WOS___175L_20200525.zip\n",
      "C:/Users/E7240/Documents/cuvalley/MonitoringSMG/WOS 175L/2020/05\\KLDSMG_WOS___175L_20200526.zip\n",
      "C:/Users/E7240/Documents/cuvalley/MonitoringSMG/WOS 175L/2020/05\\KLDSMG_WOS___175L_20200527.zip\n",
      "C:/Users/E7240/Documents/cuvalley/MonitoringSMG/WOS 175L/2020/05\\KLDSMG_WOS___175L_20200528.zip\n",
      "C:/Users/E7240/Documents/cuvalley/MonitoringSMG/WOS 175L/2020/05\\KLDSMG_WOS___175L_20200529.zip\n",
      "C:/Users/E7240/Documents/cuvalley/MonitoringSMG/WOS 175L/2020/05\\KLDSMG_WOS___175L_20200530.zip\n",
      "C:/Users/E7240/Documents/cuvalley/MonitoringSMG/WOS 175L/2020/05\\KLDSMG_WOS___175L_20200531.zip\n",
      "Skończono transformację danych\n",
      "skończono pivot\n",
      "csv ready\n"
     ]
    }
   ],
   "source": [
    "columns = ['LP1', 'Data', 'Czas', 'LP2','Wartosc','Jakosc_pomiaru']\n",
    "df=pd.DataFrame(columns=columns)\n",
    "print(df)\n",
    "\n",
    "#pętla wczytująca wszystkie csv z zipów z jednego katalogu\n",
    "\n",
    "for zip_file in glob.glob(\"C:/Users/E7240/Documents/cuvalley/MonitoringSMG/WOS 175L/2020/05/*.zip\"):\n",
    "    zf = zipfile.ZipFile(zip_file)\n",
    "    dfs = [pd.read_csv(zf.open(f), sep='|', skiprows=4, names=columns) for f in zf.namelist()]\n",
    "    df = df.append(dfs)\n",
    "#    df = pd.concat(dfs,ignore_index=False)\n",
    "    print(zip_file)\n",
    "    \n",
    "# resetowanie indeksu\n",
    "df=df.reset_index()\n",
    "\n",
    "# Wyodrębnianie informacji z pierwszej kolumny\n",
    "df['param']=df['index'].str.slice(start=17, stop=28)\n",
    "df['Analog/Digital']=df['index'].str.slice(start=28, stop=29)\n",
    "df['jednostka']=df['index'].str.slice(start=29, stop=32)\n",
    "df['param+jednostka']=df['param'] + df['jednostka']\n",
    "\n",
    "#przekształcenie daty i czasu na typ datetime\n",
    "df['Data_time']=df.Data+' '+df.Czas\n",
    "df['Data_time']=pd.to_datetime(df['Data_time'], format='%Y/%m/%d %H:%M:%S.%f')\n",
    "\n",
    "#usunięcie zbędnych kolumn\n",
    "df.drop(labels=['param','jednostka','Data','Czas'], axis=1, inplace=True)\n",
    "\n",
    "print('Skończono transformację danych')\n",
    "#odfiltrowanie prawidłowych pomiarów\n",
    "df=df[df.Jakosc_pomiaru == 192]\n",
    "\n",
    "df_pivot=pd.pivot_table(df, index='Data_time',columns='param+jednostka', values='Wartosc', aggfunc='mean')\n",
    "\n",
    "print('skończono pivot')\n",
    "\n",
    "df_pivot.to_csv('C:/Users/E7240/OneDrive/cuvalley/pivot2020_05.csv')\n",
    "print('csv ready')"
   ]
  },
  {
   "cell_type": "code",
   "execution_count": 7,
   "metadata": {},
   "outputs": [
    {
     "data": {
      "text/plain": [
       "58"
      ]
     },
     "execution_count": 7,
     "metadata": {},
     "output_type": "execute_result"
    }
   ],
   "source": [
    "# kasowanie zmiennych i czyszczenie pamięci\n",
    "\n",
    "del df_pivot\n",
    "del df\n",
    "gc.collect()"
   ]
  },
  {
   "cell_type": "code",
   "execution_count": null,
   "metadata": {},
   "outputs": [],
   "source": []
  }
 ],
 "metadata": {
  "kernelspec": {
   "display_name": "Python 3",
   "language": "python",
   "name": "python3"
  },
  "language_info": {
   "codemirror_mode": {
    "name": "ipython",
    "version": 3
   },
   "file_extension": ".py",
   "mimetype": "text/x-python",
   "name": "python",
   "nbconvert_exporter": "python",
   "pygments_lexer": "ipython3",
   "version": "3.7.6"
  }
 },
 "nbformat": 4,
 "nbformat_minor": 4
}
